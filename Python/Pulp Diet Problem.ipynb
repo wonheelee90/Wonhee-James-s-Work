{
 "cells": [
  {
   "cell_type": "code",
   "execution_count": 1,
   "metadata": {
    "collapsed": true
   },
   "outputs": [],
   "source": [
    "from pulp import *\n",
    "import pandas as pd\n"
   ]
  },
  {
   "cell_type": "code",
   "execution_count": 2,
   "metadata": {
    "collapsed": true
   },
   "outputs": [],
   "source": [
    "diet = pd.read_excel(\"/Users/Wonhee/Desktop/Georgia Tech/Fall 2017/ISYE 6501 Intro to Analytics Modeling/Homework/Homework 11/diet.xls\")\n",
    "diet = diet.drop(diet.index[[64,65,66]])"
   ]
  },
  {
   "cell_type": "code",
   "execution_count": 3,
   "metadata": {
    "collapsed": true
   },
   "outputs": [],
   "source": [
    "foods = [ i for i in diet[\"Foods\"]]\n",
    "cost = dict(zip(foods,diet[\"Price/ Serving\"]))\n",
    "calories = dict(zip(foods,diet[\"Calories\"]))\n",
    "cholesterol = dict(zip(foods,diet[\"Cholesterol mg\"]))\n",
    "fat = dict(zip(foods,diet[\"Total_Fat g\"]))\n",
    "sodium = dict(zip(foods,diet[\"Sodium mg\"]))\n",
    "carbon = dict(zip(foods,diet[\"Carbohydrates g\"]))\n",
    "fiber = dict(zip(foods,diet[\"Dietary_Fiber g\"]))\n",
    "protein = dict(zip(foods,diet[\"Protein g\"]))\n",
    "vita = dict(zip(foods,diet[\"Vit_A IU\"]))\n",
    "vitc = dict(zip(foods,diet[\"Vit_C IU\"]))\n",
    "calcium = dict(zip(foods,diet[\"Calcium mg\"]))\n",
    "iron = dict(zip(foods,diet[\"Iron mg\"]))"
   ]
  },
  {
   "cell_type": "code",
   "execution_count": 4,
   "metadata": {
    "collapsed": false
   },
   "outputs": [
    {
     "name": "stdout",
     "output_type": "stream",
     "text": [
      "foods_Celery,_Raw = 52.64371\n",
      "foods_Frozen_Broccoli = 0.25960653\n",
      "foods_Lettuce,Iceberg,Raw = 63.988506\n",
      "foods_Oranges = 2.2929389\n",
      "foods_Poached_Eggs = 0.14184397\n",
      "foods_Popcorn,Air_Popped = 13.869322\n",
      "Total Cost of food =  4.337116797399999\n"
     ]
    }
   ],
   "source": [
    "prob = LpProblem(\"Diet Problem\", LpMinimize)\n",
    "\n",
    "#variables \n",
    "foods_vars = LpVariable.dicts(\"foods\",foods,0)\n",
    "\n",
    "#objective funcction\n",
    "prob += lpSum([cost[i]*foods_vars[i] for i in foods])\n",
    "\n",
    "#constraint for the min & max daily intake\n",
    "prob += lpSum([calories[i] * foods_vars[i] for i in foods]) >= 1500\n",
    "prob += lpSum([calories[i] * foods_vars[i] for i in foods]) <= 2500\n",
    "prob += lpSum([cholesterol[i] * foods_vars[i] for i in foods]) >= 30\n",
    "prob += lpSum([cholesterol[i] * foods_vars[i] for i in foods]) <= 240\n",
    "prob += lpSum([fat[i] * foods_vars[i] for i in foods]) >= 20 \n",
    "prob += lpSum([fat[i] * foods_vars[i] for i in foods]) <= 70 \n",
    "prob += lpSum([sodium[i] * foods_vars[i] for i in foods]) >= 800\n",
    "prob += lpSum([sodium[i] * foods_vars[i] for i in foods]) <= 2000\n",
    "prob += lpSum([carbon[i] * foods_vars[i] for i in foods]) >= 130\n",
    "prob += lpSum([carbon[i] * foods_vars[i] for i in foods]) <= 450\n",
    "prob += lpSum([fiber[i] * foods_vars[i] for i in foods]) >= 125\n",
    "prob += lpSum([fiber[i] * foods_vars[i] for i in foods]) <= 250\n",
    "prob += lpSum([protein[i] * foods_vars[i] for i in foods]) >= 60\n",
    "prob += lpSum([protein[i] * foods_vars[i] for i in foods]) <= 100\n",
    "prob += lpSum([vita[i] * foods_vars[i] for i in foods]) >= 1000\n",
    "prob += lpSum([vita[i] * foods_vars[i] for i in foods]) <= 10000\n",
    "prob += lpSum([vitc[i] * foods_vars[i] for i in foods]) >= 400\n",
    "prob += lpSum([vitc[i] * foods_vars[i] for i in foods]) <= 5000\n",
    "prob += lpSum([calcium[i] * foods_vars[i] for i in foods]) >= 700\n",
    "prob += lpSum([calcium[i] * foods_vars[i] for i in foods]) <= 1500\n",
    "prob += lpSum([iron[i] * foods_vars[i] for i in foods]) >= 10\n",
    "prob += lpSum([iron[i] * foods_vars[i] for i in foods]) <= 40\n",
    "\n",
    "prob.solve()\n",
    "\n",
    "#results\n",
    "for v in prob.variables():\n",
    "    if v.varValue > 0.0:\n",
    "        print(v.name, \"=\", v.varValue)\n",
    "print(\"Total Cost of food = \", value(prob.objective))"
   ]
  },
  {
   "cell_type": "code",
   "execution_count": 5,
   "metadata": {
    "collapsed": false
   },
   "outputs": [
    {
     "name": "stdout",
     "output_type": "stream",
     "text": [
      "binary_Bologna,Turkey = 1.0\n",
      "binary_Celery,_Raw = 1.0\n",
      "binary_Lettuce,Iceberg,Raw = 1.0\n",
      "binary_Oranges = 1.0\n",
      "binary_Peanut_Butter = 1.0\n",
      "binary_Poached_Eggs = 1.0\n",
      "binary_Popcorn,Air_Popped = 1.0\n",
      "binary_Scrambled_Eggs = 1.0\n",
      "foods_Bologna,Turkey = 0.1\n",
      "foods_Celery,_Raw = 42.423026\n",
      "foods_Lettuce,Iceberg,Raw = 82.673927\n",
      "foods_Oranges = 3.0856009\n",
      "foods_Peanut_Butter = 1.9590978\n",
      "foods_Poached_Eggs = 0.1\n",
      "foods_Popcorn,Air_Popped = 13.214473\n",
      "foods_Scrambled_Eggs = 0.1\n",
      "Total Cost of food =  4.5129554810000005\n"
     ]
    }
   ],
   "source": [
    "prob = LpProblem(\"Diet Problem\", LpMinimize)\n",
    "\n",
    "#Variable for the amount of the food and Binary Vairable where it's chosen or not\n",
    "foods_vars = LpVariable.dicts(\"foods\",foods,0)\n",
    "foods_bi = pulp.LpVariable.dicts('binary', foods, \n",
    "                            lowBound = 0,\n",
    "                            upBound = 1,\n",
    "                            cat = \"Binary\")\n",
    "\n",
    "#objective funcction\n",
    "prob += lpSum( [foods_vars[i]*cost[i] for i in foods ])\n",
    "\n",
    "#constraint for the min & max daily intake\n",
    "prob += lpSum([calories[i] * foods_vars[i] for i in foods]) >= 1500\n",
    "prob += lpSum([calories[i] * foods_vars[i] for i in foods]) <= 2500\n",
    "prob += lpSum([cholesterol[i] * foods_vars[i] for i in foods]) >= 30\n",
    "prob += lpSum([cholesterol[i] * foods_vars[i] for i in foods]) <= 240\n",
    "prob += lpSum([fat[i] * foods_vars[i] for i in foods]) >= 20 \n",
    "prob += lpSum([fat[i] * foods_vars[i] for i in foods]) <= 70 \n",
    "prob += lpSum([sodium[i] * foods_vars[i] for i in foods]) >= 800\n",
    "prob += lpSum([sodium[i] * foods_vars[i] for i in foods]) <= 2000\n",
    "prob += lpSum([carbon[i] * foods_vars[i] for i in foods]) >= 130\n",
    "prob += lpSum([carbon[i] * foods_vars[i] for i in foods]) <= 450\n",
    "prob += lpSum([fiber[i] * foods_vars[i] for i in foods]) >= 125\n",
    "prob += lpSum([fiber[i] * foods_vars[i] for i in foods]) <= 250\n",
    "prob += lpSum([protein[i] * foods_vars[i] for i in foods]) >= 60\n",
    "prob += lpSum([protein[i] * foods_vars[i] for i in foods]) <= 100\n",
    "prob += lpSum([vita[i] * foods_vars[i] for i in foods]) >= 1000\n",
    "prob += lpSum([vita[i] * foods_vars[i] for i in foods]) <= 10000\n",
    "prob += lpSum([vitc[i] * foods_vars[i] for i in foods]) >= 400\n",
    "prob += lpSum([vitc[i] * foods_vars[i] for i in foods]) <= 5000\n",
    "prob += lpSum([calcium[i] * foods_vars[i] for i in foods]) >= 700\n",
    "prob += lpSum([calcium[i] * foods_vars[i] for i in foods]) <= 1500\n",
    "prob += lpSum([iron[i] * foods_vars[i] for i in foods]) >= 10\n",
    "prob += lpSum([iron[i] * foods_vars[i] for i in foods]) <= 40\n",
    "\n",
    "#constrain for minimum serving\n",
    "for i in foods:\n",
    "    prob += foods_vars[i] >= (0.1 * foods_bi[i])\n",
    "\n",
    "#to make sure that when foods_bi==0, foods_vars==0 also\n",
    "for i in foods:\n",
    "    prob += foods_vars[i] <= foods_bi[i]*2500\n",
    "\n",
    "#contraint for one of brocccoli or celery\n",
    "prob += (foods_bi['Frozen Broccoli'] + foods_bi['Celery, Raw']) <= 1\n",
    "\n",
    "#constraint for the variety in protein\n",
    "prob += (foods_bi['Bologna,Turkey'] + foods_bi['Roasted Chicken'] + foods_bi['Frankfurter, Beef'] + foods_bi['Poached Eggs'] + foods_bi['Pork'] + foods_bi['Scrambled Eggs'] + foods_bi['White Tuna in Water'] + foods_bi['Sardines in Oil'] ) >= 3\n",
    "\n",
    "\n",
    "prob.solve()\n",
    "\n",
    "#results\n",
    "for v in prob.variables():\n",
    "    if v.varValue > 0.0:\n",
    "        print(v.name, \"=\", v.varValue)\n",
    "print(\"Total Cost of food = \", value(prob.objective))"
   ]
  },
  {
   "cell_type": "code",
   "execution_count": null,
   "metadata": {
    "collapsed": true
   },
   "outputs": [],
   "source": []
  }
 ],
 "metadata": {
  "kernelspec": {
   "display_name": "Python 3",
   "language": "python",
   "name": "python3"
  },
  "language_info": {
   "codemirror_mode": {
    "name": "ipython",
    "version": 3
   },
   "file_extension": ".py",
   "mimetype": "text/x-python",
   "name": "python",
   "nbconvert_exporter": "python",
   "pygments_lexer": "ipython3",
   "version": "3.6.0"
  }
 },
 "nbformat": 4,
 "nbformat_minor": 2
}
